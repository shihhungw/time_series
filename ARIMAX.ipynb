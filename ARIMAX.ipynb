{
 "cells": [
  {
   "cell_type": "code",
   "execution_count": null,
   "id": "ce08deed",
   "metadata": {},
   "outputs": [],
   "source": [
    "import pandas     as pd\n",
    "import matplotlib as plt\n",
    "import pmdarima   as pm\n",
    "import statsmodels.api   as sm\n",
    "import matplotlib.pyplot as plt\n",
    "import warnings\n",
    "\n",
    "from statsmodels.graphics.tsaplots import plot_acf, plot_pacf\n",
    "from statsmodels.tsa.stattools import adfuller\n",
    "from statsmodels.tsa.stattools import kpss\n",
    "from statsmodels.stats.diagnostic import acorr_ljungbox\n",
    "from statsmodels.tsa.arima.model import ARIMA\n",
    "\n",
    "from   datetime                    import datetime\n",
    "from   dateutil                    import relativedelta\n",
    "from   pmdarima.arima              import auto_arima\n",
    "from   pmdarima.arima              import ndiffs\n",
    "from   sklearn.model_selection     import train_test_split\n",
    "from   sklearn.metrics             import mean_squared_error as mse\n",
    "from   arch import arch_model\n",
    "from   tqdm import tqdm"
   ]
  },
  {
   "cell_type": "markdown",
   "id": "127ac2e5",
   "metadata": {},
   "source": [
    "# Data"
   ]
  },
  {
   "cell_type": "code",
   "execution_count": null,
   "id": "0e42552e",
   "metadata": {},
   "outputs": [],
   "source": [
    "pred_year  = 35\n",
    "pred_month = pred_year * 12\n",
    "data_start = \"1997-01\"\n",
    "data_end   = \"2023-05\"\n",
    "test_start = '2009-01'\n",
    "start_pt   = pd.date_range(start=test_start, end=data_end, freq=\"MS\").strftime(\"%Y-%m\").tolist()\n",
    "\n",
    "df         = pd.read_csv(\"/Users/wangshihhung/Desktop/ARMA/house_cb.csv\")\n",
    "df[\"date\"] = pd.to_datetime(df[\"date\"], format=\"%YM%m\").dt.strftime('%Y-%m')\n",
    "df.index   = df[\"date\"]"
   ]
  },
  {
   "cell_type": "markdown",
   "id": "5659d8a9",
   "metadata": {},
   "source": [
    "# Stationarity Test (KPSS)"
   ]
  },
  {
   "cell_type": "code",
   "execution_count": null,
   "id": "cd51f1e4",
   "metadata": {},
   "outputs": [],
   "source": [
    "Ut = df['rate'][df[\"date\"] < test_start]"
   ]
  },
  {
   "cell_type": "code",
   "execution_count": null,
   "id": "50ba6235",
   "metadata": {},
   "outputs": [],
   "source": [
    "fig, axes = plt.subplots(1, 2, figsize=(12, 4))\n",
    "plot_acf (Ut, ax=axes[0])\n",
    "plot_pacf(Ut, ax=axes[1])\n",
    "plt.show()"
   ]
  },
  {
   "cell_type": "markdown",
   "id": "8c53fd7e",
   "metadata": {},
   "source": [
    "From ACF and PACF plot, we cannot observe any obvious cutoffs for lags.\n",
    "\n",
    "The Kwiatkowski–Phillips–Schmidt–Shin (KPSS) test is commonly used to test for stationarity in time series data. Unlike the ADF test, KPSS directly tests for stationarity, assuming the series is stationary under the null hypothesis.\n",
    "\n",
    "H₀ (null): The series is stationary (no unit root)\n",
    "\n",
    "H₁ (alt): The series is non-stationary (has a unit root)\n",
    "\n",
    "Here, we choose 𝛼=0.05.\n",
    "\n",
    "If the p-value of the KPSS test is smaller than  𝛼\n",
    " , we reject the null hypothesis, suggesting the time series data is non-stationary.\n",
    "\n",
    "We need to further difference the series and run the test again."
   ]
  },
  {
   "cell_type": "code",
   "execution_count": null,
   "id": "ab8a4788",
   "metadata": {},
   "outputs": [],
   "source": [
    "statistic, p_value, _, _ = kpss(Ut, regression='c', nlags='auto')\n",
    "print(\"p-valus from KPSS test : {:.4f}\".format(p_value))\n",
    "\n",
    "if p_value > 0.05:\n",
    "    Vt = Ut\n",
    "    d = 0\n",
    "else:\n",
    "    Vt = np.diff(Ut)\n",
    "    d = 1\n",
    "    while True:\n",
    "        statistic, p_value, _, _ = kpss(Vt, regression='c', nlags='auto')\n",
    "        if p_value > 0.05 or len(Vt) <= 10:\n",
    "            break\n",
    "        Vt = np.diff(Vt)\n",
    "        d += 1"
   ]
  },
  {
   "cell_type": "code",
   "execution_count": null,
   "id": "adb6155d",
   "metadata": {},
   "outputs": [],
   "source": [
    "print(\"The order of difference is {:d}\".format(d))"
   ]
  },
  {
   "cell_type": "markdown",
   "id": "74481d86",
   "metadata": {},
   "source": [
    "The test statistic is outside of the range of p-values available in the look-up table. The actual p-value is greater than the p-value returned.\n",
    "\n",
    "What does this mean?\n",
    "\n",
    "The test statistic from the KPSS test is too small, falling outside the range of the lookup table built into statsmodels.\n",
    "\n",
    "Since the p-value is obtained by referencing this table, and your statistic is smaller than the minimum available, it means the true p-value is actually larger than the one returned (for example, larger than 0.1)."
   ]
  },
  {
   "cell_type": "markdown",
   "id": "9fff04c4",
   "metadata": {},
   "source": [
    "# ARMA model"
   ]
  },
  {
   "cell_type": "markdown",
   "id": "79503ba2",
   "metadata": {},
   "source": [
    "Due to computational and time constraints, we set max_p and max_q in advance.\n",
    "\n",
    "Also, we use AIC for model evaluation. Smaller AIC indicates better model performance."
   ]
  },
  {
   "cell_type": "code",
   "execution_count": null,
   "id": "334015f1",
   "metadata": {},
   "outputs": [],
   "source": [
    "max_p = 10\n",
    "max_q = 10"
   ]
  },
  {
   "cell_type": "code",
   "execution_count": null,
   "id": "a711157a",
   "metadata": {},
   "outputs": [],
   "source": [
    "warnings.filterwarnings(\"ignore\")\n",
    "\n",
    "AIC = np.inf\n",
    "ARMA_order = None\n",
    "ARMA_model = None\n",
    "\n",
    "for p in tqdm(range(max_p+1)):\n",
    "    for q in range(max_q+1):\n",
    "        try:\n",
    "            model = ARIMA(Vt, order=(p, 0, q)).fit(method='statespace')\n",
    "            if model.aic < AIC:\n",
    "                AIC = model.aic\n",
    "                ARMA_order = (p, q)\n",
    "                ARMA_model = model\n",
    "        except:\n",
    "            continue\n",
    "\n",
    "\n",
    "warnings.filterwarnings(\"default\")"
   ]
  },
  {
   "cell_type": "code",
   "execution_count": null,
   "id": "57158346",
   "metadata": {},
   "outputs": [],
   "source": [
    "print(\"Through AIC model selection, the optimal AR and MA orders are {:d} and {:d}\".format(ARMA_order[0], ARMA_order[1]))"
   ]
  },
  {
   "cell_type": "code",
   "execution_count": null,
   "id": "46cccd2d",
   "metadata": {},
   "outputs": [],
   "source": [
    "Et = ARMA_model.resid"
   ]
  },
  {
   "cell_type": "markdown",
   "id": "773a9684",
   "metadata": {},
   "source": [
    "The Ljung-Box test is commonly used to assess whether the residuals of a time series model are independently distributed. It specifically tests for the presence of autocorrelation at multiple lags.\n",
    "\n",
    "**H₀ (null): The residuals are independently distributed (no autocorrelation, i.e., white noise).**\n",
    "\n",
    "**H₁ (alt): The residuals are not independently distributed (presence of autocorrelation).**\n",
    "\n",
    "\n",
    "\n",
    "1. If the p-value of the Ljung-Box test is smaller than $\\alpha$, we reject the null hypothesis, suggesting that the residuals exhibit autocorrelation.\n",
    "\n",
    "2. If the p-value is larger than alpha, we fail to reject the null hypothesis, suggesting that the residuals are consistent with white noise.\n",
    "\n",
    "Here, we choose $$\\alpha = 0.05$$"
   ]
  },
  {
   "cell_type": "code",
   "execution_count": null,
   "id": "76647fec",
   "metadata": {},
   "outputs": [],
   "source": [
    "lb_test = acorr_ljungbox(Et, lags=range(1, 16), return_df=True)\n",
    "\n",
    "print(lb_test)"
   ]
  },
  {
   "cell_type": "markdown",
   "id": "955ed3c6",
   "metadata": {},
   "source": [
    "From Ljung-Box test, we may conclude that, $E_{t}$ is white noise process."
   ]
  },
  {
   "cell_type": "markdown",
   "id": "323805e0",
   "metadata": {},
   "source": [
    "# ARCH effect"
   ]
  },
  {
   "cell_type": "markdown",
   "id": "7ac550ad",
   "metadata": {},
   "source": [
    "Engle’s test: \n",
    "Check whether the residuals from your ARMA model have time-varying volatility (exhibits ARCH effects).\n",
    "\n",
    "**H₀ (null): No ARCH effect — the residual variance is constant over time**\n",
    "\n",
    "**H₁ (alt): ARCH effect is present — variance depends on past squared residuals**\n",
    "    \n",
    "    \n",
    "Here, we choose $$\\alpha = 0.05$$.\n",
    "\n",
    "**If the p-value of the Engle’s test is larger than alpha, we cannot reject null hypothesis, suggesting there is No ARCH effect.**\n",
    "\n",
    "**Otherwise, we need to fit GARCH model.**"
   ]
  },
  {
   "cell_type": "code",
   "execution_count": null,
   "id": "e6a64476",
   "metadata": {},
   "outputs": [],
   "source": [
    "def GARCH_fit(Et, max_p=5, max_q=5):\n",
    "    AIC = np.inf\n",
    "    GARCH_model = None\n",
    "    GARCH_order = None\n",
    "\n",
    "    max_p, max_q = 5, 5\n",
    "\n",
    "    for p_val in range(1, max_p + 1):\n",
    "        for q_val in range(1, max_q + 1):\n",
    "            print(\"loop...\")\n",
    "            try:\n",
    "                model = arch_model(Et, vol='GARCH', p=p_val, q=q_val, mean = 'Zero', rescale=True)\n",
    "                fit   = model.fit(disp='off')\n",
    "\n",
    "                if fit.aic < AIC:\n",
    "                    AIC = fit.aic\n",
    "                    GARCH_model = fit\n",
    "                    GARCH_order = (p_val, q_val)                \n",
    "            except:\n",
    "                continue\n",
    "\n",
    "    if GARCH_model is None:\n",
    "        print(\"Hi!!!!\")\n",
    "        model = arch_model(Et, vol='GARCH', p=1, q=1, mean = 'Zero', rescale=True)\n",
    "        GARCH_model = model.fit(disp='off')\n",
    "        GARCH_order = (1, 1)\n",
    "        \n",
    "    #sigma_t = GARCH_model.conditional_volatility**2\n",
    "    \n",
    "    return GARCH_model, GARCH_order #, sigma_t"
   ]
  },
  {
   "cell_type": "code",
   "execution_count": null,
   "id": "053aea9a",
   "metadata": {},
   "outputs": [],
   "source": [
    "from statsmodels.stats.diagnostic import het_arch\n",
    "\n",
    "stat, pval, _, _ = het_arch(Et, nlags=10)\n",
    "\n",
    "if pval < 0.05:\n",
    "    GARCH_model, GARCH_order = GARCH_fit(Et, max_p=5, max_q=5)\n",
    "else:\n",
    "    GARCH_model, GARCH_order = None, None\n",
    "    sigma_t_hat = np.std(Et) * np.ones(len(Et))"
   ]
  },
  {
   "cell_type": "code",
   "execution_count": null,
   "id": "ff08fee6",
   "metadata": {},
   "outputs": [],
   "source": [
    "print(pval)"
   ]
  },
  {
   "cell_type": "markdown",
   "id": "d9109799",
   "metadata": {},
   "source": [
    "\\newpage"
   ]
  },
  {
   "cell_type": "markdown",
   "id": "6cb62e82",
   "metadata": {},
   "source": [
    "# ARIMAX model"
   ]
  },
  {
   "cell_type": "code",
   "execution_count": null,
   "id": "845ad68e",
   "metadata": {},
   "outputs": [],
   "source": [
    "AIC          = np.inf\n",
    "ar, diff, ma = 0, 0, 0\n",
    "AIC_val      = {}\n",
    "\n",
    "model_para = {}\n",
    "model_rate = pd.DataFrame({'date':pd.date_range(start = data_start, end = \"2058-05\", freq=\"MS\")})\n",
    "model_rate.index = model_rate[\"date\"]"
   ]
  },
  {
   "cell_type": "code",
   "execution_count": null,
   "id": "48475894",
   "metadata": {},
   "outputs": [],
   "source": [
    "start_pt = [\"2009-01\", \"2010-01\", \"2011-01\", \"2012-01\", \"2013-01\", \"2014-01\", \"2015-01\", \"2016-01\", \n",
    "            \"2017-01\", \"2018-01\", \"2019-01\", \"2020-01\", \"2021-01\", \"2022-01\", \"2023-01\"]\n",
    "for month in tqdm( start_pt ):\n",
    "    temp = df[ df[\"date\"] < month ]\n",
    "    \n",
    "    for d in [0,1,2]:\n",
    "        for p in range(11):\n",
    "            for q in range(11):\n",
    "                model3   = sm.tsa.arima.ARIMA(endog=temp['rate'], exog=temp[['rediscount']],order=[p,d,q], trend='n', freq='MS')\n",
    "                results3 = model3.fit()\n",
    "\n",
    "                if AIC > results3.aic:\n",
    "                    AIC = results3.aic\n",
    "                    ar, diff, ma = p, d, q\n",
    "                    print(\"Better!\")\n",
    "\n",
    "    #AIC_val[(p, d, q)] = results3.aic\n",
    "    \n",
    "    test_end = str( pd.to_datetime(month) + pd.DateOffset(months=pred_month - 1) )\n",
    "    #delta     = relativedelta.relativedelta(pd.to_datetime(test_end), pd.to_datetime(data_end))\n",
    "    #exog     = [ df.at[month, \"rediscount\"] ] * ( delta.years*12 + delta.months )\n",
    "    ex     = [ df.at[month, \"rediscount\"] ] * pred_month\n",
    "    \n",
    "    model    = sm.tsa.arima.ARIMA(endog=temp['rate'],exog=temp[['rediscount']], order=[ar, diff, ma], trend='n', freq='MS')\n",
    "    results  = model.fit()\n",
    "    \n",
    "    model_val  = results.predict (start=data_start, end=test_end, exog=ex)\n",
    "    model_rate = model_rate.merge(model_val, left_index=True, right_index=True, how=\"left\" )\n",
    "    model_para[f\"{month}\"] = (ar, diff, ma)\n",
    "    "
   ]
  },
  {
   "cell_type": "code",
   "execution_count": null,
   "id": "f28f120a",
   "metadata": {},
   "outputs": [],
   "source": [
    "model   = sm.tsa.ARIMA(endog=df['rate'],exog=df[['rediscount']],order=[ar, diff, ma],trend='n')\n",
    "results = model.fit()"
   ]
  },
  {
   "cell_type": "code",
   "execution_count": null,
   "id": "291774a5",
   "metadata": {},
   "outputs": [],
   "source": [
    "ex = []\n",
    "for i in range(pred_month):\n",
    "    ex.append(1.875)\n",
    "results.predict(start=\"2023-06-01\", end=\"2058-05-01\", exog=ex).to_csv(\"/Users/wangshihhung/Desktop/ARMA/ARIMAX.csv\", index=True)"
   ]
  }
 ],
 "metadata": {
  "kernelspec": {
   "display_name": "Python 3 (ipykernel)",
   "language": "python",
   "name": "python3"
  },
  "language_info": {
   "codemirror_mode": {
    "name": "ipython",
    "version": 3
   },
   "file_extension": ".py",
   "mimetype": "text/x-python",
   "name": "python",
   "nbconvert_exporter": "python",
   "pygments_lexer": "ipython3",
   "version": "3.12.2"
  }
 },
 "nbformat": 4,
 "nbformat_minor": 5
}
